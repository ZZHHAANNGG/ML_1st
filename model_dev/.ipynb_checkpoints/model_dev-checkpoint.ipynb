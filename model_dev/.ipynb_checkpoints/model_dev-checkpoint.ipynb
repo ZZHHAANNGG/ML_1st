{
 "cells": [
  {
   "cell_type": "code",
   "execution_count": null,
   "metadata": {},
   "outputs": [],
   "source": [
    "# Import dependencies.\n",
    "import os\n",
    "import pandas as pd"
   ]
  },
  {
   "cell_type": "code",
   "execution_count": null,
   "metadata": {},
   "outputs": [],
   "source": [
    "DATA_BASE = '../movie.data'\n",
    "CREDIT_PATH = os.path.join(DATA_BASE, 'credits.csv')\n",
    "RATING_PATH = os.path.join(DATA_BASE, 'ratings.csv')\n",
    "METADATA_PATH = os.path.join(DATA_BASE, 'movies_metadata.csv')\n",
    "# credits = pd.read_csv(CREDIT_PATH)\n",
    "# ratings = pd.read_csv(RATING_PATH)\n",
    "metadata = pd.read_csv(METADATA_PATH)"
   ]
  },
  {
   "cell_type": "code",
   "execution_count": 13,
   "metadata": {},
   "outputs": [
    {
     "data": {
      "text/plain": [
       "[RangeIndex(start=0, stop=26024289, step=1),\n",
       " Index(['userId', 'movieId', 'rating', 'timestamp'], dtype='object')]"
      ]
     },
     "execution_count": 13,
     "metadata": {},
     "output_type": "execute_result"
    }
   ],
   "source": [
    "ratings.axes"
   ]
  },
  {
   "cell_type": "code",
   "execution_count": null,
   "metadata": {},
   "outputs": [],
   "source": [
    "ratings[ratings['rating'].notnull()]"
   ]
  }
 ],
 "metadata": {
  "kernelspec": {
   "display_name": "Python 3",
   "language": "python",
   "name": "python3"
  },
  "language_info": {
   "codemirror_mode": {
    "name": "ipython",
    "version": 3
   },
   "file_extension": ".py",
   "mimetype": "text/x-python",
   "name": "python",
   "nbconvert_exporter": "python",
   "pygments_lexer": "ipython3",
   "version": "3.7.9"
  }
 },
 "nbformat": 4,
 "nbformat_minor": 4
}
